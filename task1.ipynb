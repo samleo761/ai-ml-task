{
 "cells": [
  {
   "cell_type": "code",
   "execution_count": 1,
   "id": "08fe61ea",
   "metadata": {},
   "outputs": [],
   "source": [
    "import cv2"
   ]
  },
  {
   "cell_type": "code",
   "execution_count": 5,
   "id": "9e1ce41f",
   "metadata": {},
   "outputs": [],
   "source": [
    "img=cv2.imread(\"noise1.jpeg\")"
   ]
  },
  {
   "cell_type": "code",
   "execution_count": 6,
   "id": "6f885cee",
   "metadata": {},
   "outputs": [],
   "source": [
    "avg=cv2.blur(img,(25,25))"
   ]
  },
  {
   "cell_type": "code",
   "execution_count": 9,
   "id": "4c26b2dd",
   "metadata": {},
   "outputs": [],
   "source": [
    "cv2.imshow(\"be\",img)\n",
    "cv2.waitKey(0)\n",
    "cv2.imshow(\"af\",avg)\n",
    "cv2.waitKey(0)\n",
    "cv2.destroyAllWindows()"
   ]
  },
  {
   "cell_type": "code",
   "execution_count": 10,
   "id": "fe9ac746",
   "metadata": {},
   "outputs": [],
   "source": [
    "med=cv2.medianBlur(img,9)"
   ]
  },
  {
   "cell_type": "code",
   "execution_count": 11,
   "id": "944d38c7",
   "metadata": {},
   "outputs": [],
   "source": [
    "cv2.imshow(\"be\",img)\n",
    "cv2.waitKey(0)\n",
    "cv2.imshow(\"af\",med)\n",
    "cv2.waitKey(0)\n",
    "cv2.destroyAllWindows()"
   ]
  },
  {
   "cell_type": "code",
   "execution_count": 13,
   "id": "154f7b73",
   "metadata": {},
   "outputs": [
    {
     "data": {
      "text/plain": [
       "True"
      ]
     },
     "execution_count": 13,
     "metadata": {},
     "output_type": "execute_result"
    }
   ],
   "source": [
    "cv2.imwrite(\"no.jpeg\",med)"
   ]
  },
  {
   "cell_type": "code",
   "execution_count": 14,
   "id": "2271def0",
   "metadata": {},
   "outputs": [
    {
     "data": {
      "text/plain": [
       "True"
      ]
     },
     "execution_count": 14,
     "metadata": {},
     "output_type": "execute_result"
    }
   ],
   "source": [
    "cv2.imwrite(\"no2.jpeg\",avg)"
   ]
  },
  {
   "cell_type": "code",
   "execution_count": 15,
   "id": "ed52f086",
   "metadata": {},
   "outputs": [],
   "source": [
    "import numpy as np"
   ]
  },
  {
   "cell_type": "code",
   "execution_count": 16,
   "id": "66230f17",
   "metadata": {},
   "outputs": [],
   "source": [
    "ker=np.ones((3,3),float)/9"
   ]
  },
  {
   "cell_type": "code",
   "execution_count": 17,
   "id": "e71e1d9b",
   "metadata": {},
   "outputs": [
    {
     "name": "stdout",
     "output_type": "stream",
     "text": [
      "[[0.11111111 0.11111111 0.11111111]\n",
      " [0.11111111 0.11111111 0.11111111]\n",
      " [0.11111111 0.11111111 0.11111111]]\n"
     ]
    }
   ],
   "source": [
    "print(ker)"
   ]
  },
  {
   "cell_type": "code",
   "execution_count": 18,
   "id": "99874e5b",
   "metadata": {},
   "outputs": [],
   "source": [
    "df=cv2.filter2D(img,-1,ker)"
   ]
  },
  {
   "cell_type": "code",
   "execution_count": 19,
   "id": "afc47c56",
   "metadata": {},
   "outputs": [],
   "source": [
    "cv2.imshow(\"be\",img)\n",
    "cv2.waitKey(0)\n",
    "cv2.imshow(\"af\",df)\n",
    "cv2.waitKey(0)\n",
    "cv2.destroyAllWindows()"
   ]
  },
  {
   "cell_type": "code",
   "execution_count": 20,
   "id": "bb8daeae",
   "metadata": {},
   "outputs": [
    {
     "data": {
      "text/plain": [
       "True"
      ]
     },
     "execution_count": 20,
     "metadata": {},
     "output_type": "execute_result"
    }
   ],
   "source": [
    "cv2.imwrite(\"2d.jpeg\",df)"
   ]
  },
  {
   "cell_type": "code",
   "execution_count": 21,
   "id": "00084578",
   "metadata": {},
   "outputs": [],
   "source": [
    "img_re=cv2.resize(img,(200,200))"
   ]
  },
  {
   "cell_type": "code",
   "execution_count": 22,
   "id": "3a1fd05d",
   "metadata": {},
   "outputs": [],
   "source": [
    "cv2.imshow(\"be\",img)\n",
    "cv2.waitKey(0)\n",
    "cv2.imshow(\"af\",img_re)\n",
    "cv2.waitKey(0)\n",
    "cv2.destroyAllWindows()"
   ]
  },
  {
   "cell_type": "code",
   "execution_count": null,
   "id": "477b9ec0",
   "metadata": {},
   "outputs": [],
   "source": []
  }
 ],
 "metadata": {
  "kernelspec": {
   "display_name": "Python 3 (ipykernel)",
   "language": "python",
   "name": "python3"
  },
  "language_info": {
   "codemirror_mode": {
    "name": "ipython",
    "version": 3
   },
   "file_extension": ".py",
   "mimetype": "text/x-python",
   "name": "python",
   "nbconvert_exporter": "python",
   "pygments_lexer": "ipython3",
   "version": "3.9.13"
  }
 },
 "nbformat": 4,
 "nbformat_minor": 5
}
